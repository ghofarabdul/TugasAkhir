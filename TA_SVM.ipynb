{
 "cells": [
  {
   "cell_type": "code",
   "execution_count": 1,
   "id": "afb22669-7f22-4c2d-b470-a4c8b24d6d68",
   "metadata": {},
   "outputs": [],
   "source": [
    "import pandas as pd\n",
    "import os\n",
    "from skimage.transform import resize\n",
    "from skimage.io import imread\n",
    "import numpy as np\n",
    "import cv2\n",
    "import imutils\n",
    "import matplotlib.pyplot as plt\n",
    "Categories=['telur_bintik','telur_retak', 'telur_normal']\n",
    "target = []\n",
    "flat_data = []\n",
    "images = []\n",
    "\n",
    "datadir = 'C:/Users/Ghofar/Downloads/dataset-20220706T090136Z-001/dataset/datasets'"
   ]
  },
  {
   "cell_type": "code",
   "execution_count": 3,
   "id": "69e351d7-2376-4f62-9c9b-2cadc0be0c22",
   "metadata": {},
   "outputs": [
    {
     "name": "stdout",
     "output_type": "stream",
     "text": [
      "Category is: telur_bintik \tLabel encoded as: 0\n",
      "Category is: telur_retak \tLabel encoded as: 1\n",
      "Category is: telur_normal \tLabel encoded as: 2\n"
     ]
    }
   ],
   "source": [
    "for i in Categories:\n",
    "  print(\"Category is:\",i,\"\\tLabel encoded as:\",Categories.index(i))\n",
    "  target_class = Categories.index(i)\n",
    "  # Create data path for all folders under MinorProject\n",
    "  path = os.path.join(datadir,i)\n",
    "  # Image resizing, to ensure all images are of same dimensions\n",
    "  for img in os.listdir(path):\n",
    "    img_array = imread(os.path.join(path,img))\n",
    "    # Skimage normalizes the value of image\n",
    "    img_resized = resize(img_array,(150,150,3))\n",
    "    flat_data.append(img_resized.flatten())\n",
    "    images.append(img_resized)\n",
    "    target.append(target_class)\n",
    "# Convert list to numpy array format\n",
    "flat_data = np.array(flat_data)\n",
    "images = np.array(images)\n",
    "target = np.array(target)"
   ]
  },
  {
   "cell_type": "code",
   "execution_count": 4,
   "id": "3eb1d061-1a1a-4e0e-8bff-cabc5b3ead2a",
   "metadata": {},
   "outputs": [
    {
     "data": {
      "text/html": [
       "<div>\n",
       "<style scoped>\n",
       "    .dataframe tbody tr th:only-of-type {\n",
       "        vertical-align: middle;\n",
       "    }\n",
       "\n",
       "    .dataframe tbody tr th {\n",
       "        vertical-align: top;\n",
       "    }\n",
       "\n",
       "    .dataframe thead th {\n",
       "        text-align: right;\n",
       "    }\n",
       "</style>\n",
       "<table border=\"1\" class=\"dataframe\">\n",
       "  <thead>\n",
       "    <tr style=\"text-align: right;\">\n",
       "      <th></th>\n",
       "      <th>0</th>\n",
       "      <th>1</th>\n",
       "      <th>2</th>\n",
       "      <th>3</th>\n",
       "      <th>4</th>\n",
       "      <th>5</th>\n",
       "      <th>6</th>\n",
       "      <th>7</th>\n",
       "      <th>8</th>\n",
       "      <th>9</th>\n",
       "      <th>...</th>\n",
       "      <th>67491</th>\n",
       "      <th>67492</th>\n",
       "      <th>67493</th>\n",
       "      <th>67494</th>\n",
       "      <th>67495</th>\n",
       "      <th>67496</th>\n",
       "      <th>67497</th>\n",
       "      <th>67498</th>\n",
       "      <th>67499</th>\n",
       "      <th>Target</th>\n",
       "    </tr>\n",
       "  </thead>\n",
       "  <tbody>\n",
       "    <tr>\n",
       "      <th>0</th>\n",
       "      <td>0.000000</td>\n",
       "      <td>0.000000</td>\n",
       "      <td>0.019608</td>\n",
       "      <td>0.000000</td>\n",
       "      <td>0.000000</td>\n",
       "      <td>0.015686</td>\n",
       "      <td>0.000000</td>\n",
       "      <td>0.000000</td>\n",
       "      <td>0.019608</td>\n",
       "      <td>0.000000</td>\n",
       "      <td>...</td>\n",
       "      <td>0.000000</td>\n",
       "      <td>0.000000</td>\n",
       "      <td>0.000000</td>\n",
       "      <td>0.000000</td>\n",
       "      <td>0.000000</td>\n",
       "      <td>0.000000</td>\n",
       "      <td>0.000000</td>\n",
       "      <td>0.000000</td>\n",
       "      <td>0.000000</td>\n",
       "      <td>0</td>\n",
       "    </tr>\n",
       "    <tr>\n",
       "      <th>1</th>\n",
       "      <td>0.000000</td>\n",
       "      <td>0.000000</td>\n",
       "      <td>0.015686</td>\n",
       "      <td>0.000000</td>\n",
       "      <td>0.000000</td>\n",
       "      <td>0.019608</td>\n",
       "      <td>0.000000</td>\n",
       "      <td>0.000000</td>\n",
       "      <td>0.015686</td>\n",
       "      <td>0.000000</td>\n",
       "      <td>...</td>\n",
       "      <td>0.000000</td>\n",
       "      <td>0.000000</td>\n",
       "      <td>0.000000</td>\n",
       "      <td>0.000000</td>\n",
       "      <td>0.000000</td>\n",
       "      <td>0.007843</td>\n",
       "      <td>0.000000</td>\n",
       "      <td>0.000000</td>\n",
       "      <td>0.015686</td>\n",
       "      <td>0</td>\n",
       "    </tr>\n",
       "    <tr>\n",
       "      <th>2</th>\n",
       "      <td>0.000000</td>\n",
       "      <td>0.000000</td>\n",
       "      <td>0.019608</td>\n",
       "      <td>0.000000</td>\n",
       "      <td>0.000000</td>\n",
       "      <td>0.015686</td>\n",
       "      <td>0.000000</td>\n",
       "      <td>0.000000</td>\n",
       "      <td>0.015686</td>\n",
       "      <td>0.000000</td>\n",
       "      <td>...</td>\n",
       "      <td>0.000000</td>\n",
       "      <td>0.000000</td>\n",
       "      <td>0.003922</td>\n",
       "      <td>0.000000</td>\n",
       "      <td>0.000000</td>\n",
       "      <td>0.007843</td>\n",
       "      <td>0.000000</td>\n",
       "      <td>0.000000</td>\n",
       "      <td>0.007843</td>\n",
       "      <td>0</td>\n",
       "    </tr>\n",
       "    <tr>\n",
       "      <th>3</th>\n",
       "      <td>0.000000</td>\n",
       "      <td>0.000000</td>\n",
       "      <td>0.035294</td>\n",
       "      <td>0.000000</td>\n",
       "      <td>0.000000</td>\n",
       "      <td>0.031373</td>\n",
       "      <td>0.000000</td>\n",
       "      <td>0.000000</td>\n",
       "      <td>0.027451</td>\n",
       "      <td>0.000000</td>\n",
       "      <td>...</td>\n",
       "      <td>0.000000</td>\n",
       "      <td>0.000000</td>\n",
       "      <td>0.011765</td>\n",
       "      <td>0.000000</td>\n",
       "      <td>0.000000</td>\n",
       "      <td>0.011765</td>\n",
       "      <td>0.000000</td>\n",
       "      <td>0.000000</td>\n",
       "      <td>0.015686</td>\n",
       "      <td>0</td>\n",
       "    </tr>\n",
       "    <tr>\n",
       "      <th>4</th>\n",
       "      <td>0.000000</td>\n",
       "      <td>0.000000</td>\n",
       "      <td>0.015686</td>\n",
       "      <td>0.000000</td>\n",
       "      <td>0.000000</td>\n",
       "      <td>0.015686</td>\n",
       "      <td>0.000000</td>\n",
       "      <td>0.000000</td>\n",
       "      <td>0.015686</td>\n",
       "      <td>0.000000</td>\n",
       "      <td>...</td>\n",
       "      <td>0.000000</td>\n",
       "      <td>0.000000</td>\n",
       "      <td>0.000000</td>\n",
       "      <td>0.000000</td>\n",
       "      <td>0.000000</td>\n",
       "      <td>0.003922</td>\n",
       "      <td>0.000000</td>\n",
       "      <td>0.000000</td>\n",
       "      <td>0.007843</td>\n",
       "      <td>0</td>\n",
       "    </tr>\n",
       "    <tr>\n",
       "      <th>...</th>\n",
       "      <td>...</td>\n",
       "      <td>...</td>\n",
       "      <td>...</td>\n",
       "      <td>...</td>\n",
       "      <td>...</td>\n",
       "      <td>...</td>\n",
       "      <td>...</td>\n",
       "      <td>...</td>\n",
       "      <td>...</td>\n",
       "      <td>...</td>\n",
       "      <td>...</td>\n",
       "      <td>...</td>\n",
       "      <td>...</td>\n",
       "      <td>...</td>\n",
       "      <td>...</td>\n",
       "      <td>...</td>\n",
       "      <td>...</td>\n",
       "      <td>...</td>\n",
       "      <td>...</td>\n",
       "      <td>...</td>\n",
       "      <td>...</td>\n",
       "    </tr>\n",
       "    <tr>\n",
       "      <th>345</th>\n",
       "      <td>0.007843</td>\n",
       "      <td>0.007843</td>\n",
       "      <td>0.011765</td>\n",
       "      <td>0.011765</td>\n",
       "      <td>0.011765</td>\n",
       "      <td>0.011765</td>\n",
       "      <td>0.011765</td>\n",
       "      <td>0.009477</td>\n",
       "      <td>0.011765</td>\n",
       "      <td>0.011765</td>\n",
       "      <td>...</td>\n",
       "      <td>0.047059</td>\n",
       "      <td>0.031373</td>\n",
       "      <td>0.011765</td>\n",
       "      <td>0.050980</td>\n",
       "      <td>0.031373</td>\n",
       "      <td>0.007843</td>\n",
       "      <td>0.070588</td>\n",
       "      <td>0.035294</td>\n",
       "      <td>0.007843</td>\n",
       "      <td>2</td>\n",
       "    </tr>\n",
       "    <tr>\n",
       "      <th>346</th>\n",
       "      <td>0.007843</td>\n",
       "      <td>0.003922</td>\n",
       "      <td>0.050980</td>\n",
       "      <td>0.007843</td>\n",
       "      <td>0.007843</td>\n",
       "      <td>0.033333</td>\n",
       "      <td>0.011765</td>\n",
       "      <td>0.011765</td>\n",
       "      <td>0.015686</td>\n",
       "      <td>0.011765</td>\n",
       "      <td>...</td>\n",
       "      <td>0.058824</td>\n",
       "      <td>0.031373</td>\n",
       "      <td>0.023529</td>\n",
       "      <td>0.050654</td>\n",
       "      <td>0.027451</td>\n",
       "      <td>0.031373</td>\n",
       "      <td>0.035294</td>\n",
       "      <td>0.017647</td>\n",
       "      <td>0.058824</td>\n",
       "      <td>2</td>\n",
       "    </tr>\n",
       "    <tr>\n",
       "      <th>347</th>\n",
       "      <td>0.003922</td>\n",
       "      <td>0.003922</td>\n",
       "      <td>0.004575</td>\n",
       "      <td>0.003922</td>\n",
       "      <td>0.003922</td>\n",
       "      <td>0.007843</td>\n",
       "      <td>0.003922</td>\n",
       "      <td>0.003922</td>\n",
       "      <td>0.011765</td>\n",
       "      <td>0.003922</td>\n",
       "      <td>...</td>\n",
       "      <td>0.062745</td>\n",
       "      <td>0.039216</td>\n",
       "      <td>0.023856</td>\n",
       "      <td>0.066667</td>\n",
       "      <td>0.035294</td>\n",
       "      <td>0.031373</td>\n",
       "      <td>0.066667</td>\n",
       "      <td>0.035294</td>\n",
       "      <td>0.039542</td>\n",
       "      <td>2</td>\n",
       "    </tr>\n",
       "    <tr>\n",
       "      <th>348</th>\n",
       "      <td>0.011765</td>\n",
       "      <td>0.007843</td>\n",
       "      <td>0.027451</td>\n",
       "      <td>0.011765</td>\n",
       "      <td>0.007843</td>\n",
       "      <td>0.027451</td>\n",
       "      <td>0.011765</td>\n",
       "      <td>0.011438</td>\n",
       "      <td>0.019608</td>\n",
       "      <td>0.011765</td>\n",
       "      <td>...</td>\n",
       "      <td>0.078431</td>\n",
       "      <td>0.050980</td>\n",
       "      <td>0.031373</td>\n",
       "      <td>0.076471</td>\n",
       "      <td>0.047059</td>\n",
       "      <td>0.023529</td>\n",
       "      <td>0.058824</td>\n",
       "      <td>0.043137</td>\n",
       "      <td>0.039216</td>\n",
       "      <td>2</td>\n",
       "    </tr>\n",
       "    <tr>\n",
       "      <th>349</th>\n",
       "      <td>0.003922</td>\n",
       "      <td>0.003922</td>\n",
       "      <td>0.003922</td>\n",
       "      <td>0.003922</td>\n",
       "      <td>0.003922</td>\n",
       "      <td>0.007843</td>\n",
       "      <td>0.003922</td>\n",
       "      <td>0.003922</td>\n",
       "      <td>0.007843</td>\n",
       "      <td>0.003922</td>\n",
       "      <td>...</td>\n",
       "      <td>0.062745</td>\n",
       "      <td>0.035294</td>\n",
       "      <td>0.019608</td>\n",
       "      <td>0.062745</td>\n",
       "      <td>0.033007</td>\n",
       "      <td>0.019608</td>\n",
       "      <td>0.054902</td>\n",
       "      <td>0.023529</td>\n",
       "      <td>0.031373</td>\n",
       "      <td>2</td>\n",
       "    </tr>\n",
       "  </tbody>\n",
       "</table>\n",
       "<p>350 rows × 67501 columns</p>\n",
       "</div>"
      ],
      "text/plain": [
       "            0         1         2         3         4         5         6  \\\n",
       "0    0.000000  0.000000  0.019608  0.000000  0.000000  0.015686  0.000000   \n",
       "1    0.000000  0.000000  0.015686  0.000000  0.000000  0.019608  0.000000   \n",
       "2    0.000000  0.000000  0.019608  0.000000  0.000000  0.015686  0.000000   \n",
       "3    0.000000  0.000000  0.035294  0.000000  0.000000  0.031373  0.000000   \n",
       "4    0.000000  0.000000  0.015686  0.000000  0.000000  0.015686  0.000000   \n",
       "..        ...       ...       ...       ...       ...       ...       ...   \n",
       "345  0.007843  0.007843  0.011765  0.011765  0.011765  0.011765  0.011765   \n",
       "346  0.007843  0.003922  0.050980  0.007843  0.007843  0.033333  0.011765   \n",
       "347  0.003922  0.003922  0.004575  0.003922  0.003922  0.007843  0.003922   \n",
       "348  0.011765  0.007843  0.027451  0.011765  0.007843  0.027451  0.011765   \n",
       "349  0.003922  0.003922  0.003922  0.003922  0.003922  0.007843  0.003922   \n",
       "\n",
       "            7         8         9  ...     67491     67492     67493  \\\n",
       "0    0.000000  0.019608  0.000000  ...  0.000000  0.000000  0.000000   \n",
       "1    0.000000  0.015686  0.000000  ...  0.000000  0.000000  0.000000   \n",
       "2    0.000000  0.015686  0.000000  ...  0.000000  0.000000  0.003922   \n",
       "3    0.000000  0.027451  0.000000  ...  0.000000  0.000000  0.011765   \n",
       "4    0.000000  0.015686  0.000000  ...  0.000000  0.000000  0.000000   \n",
       "..        ...       ...       ...  ...       ...       ...       ...   \n",
       "345  0.009477  0.011765  0.011765  ...  0.047059  0.031373  0.011765   \n",
       "346  0.011765  0.015686  0.011765  ...  0.058824  0.031373  0.023529   \n",
       "347  0.003922  0.011765  0.003922  ...  0.062745  0.039216  0.023856   \n",
       "348  0.011438  0.019608  0.011765  ...  0.078431  0.050980  0.031373   \n",
       "349  0.003922  0.007843  0.003922  ...  0.062745  0.035294  0.019608   \n",
       "\n",
       "        67494     67495     67496     67497     67498     67499  Target  \n",
       "0    0.000000  0.000000  0.000000  0.000000  0.000000  0.000000       0  \n",
       "1    0.000000  0.000000  0.007843  0.000000  0.000000  0.015686       0  \n",
       "2    0.000000  0.000000  0.007843  0.000000  0.000000  0.007843       0  \n",
       "3    0.000000  0.000000  0.011765  0.000000  0.000000  0.015686       0  \n",
       "4    0.000000  0.000000  0.003922  0.000000  0.000000  0.007843       0  \n",
       "..        ...       ...       ...       ...       ...       ...     ...  \n",
       "345  0.050980  0.031373  0.007843  0.070588  0.035294  0.007843       2  \n",
       "346  0.050654  0.027451  0.031373  0.035294  0.017647  0.058824       2  \n",
       "347  0.066667  0.035294  0.031373  0.066667  0.035294  0.039542       2  \n",
       "348  0.076471  0.047059  0.023529  0.058824  0.043137  0.039216       2  \n",
       "349  0.062745  0.033007  0.019608  0.054902  0.023529  0.031373       2  \n",
       "\n",
       "[350 rows x 67501 columns]"
      ]
     },
     "execution_count": 4,
     "metadata": {},
     "output_type": "execute_result"
    }
   ],
   "source": [
    "df = pd.DataFrame(flat_data)\n",
    "# Create a column for output data called Target\n",
    "df['Target'] = target\n",
    "# Rows are all the input images (90 images, 30 of each category)\n",
    "df"
   ]
  },
  {
   "cell_type": "code",
   "execution_count": 5,
   "id": "968b6925-c749-4a11-868d-4e1f47c7554b",
   "metadata": {},
   "outputs": [
    {
     "name": "stdout",
     "output_type": "stream",
     "text": [
      "AxesImage(54,36;334.8x217.44)\n"
     ]
    },
    {
     "data": {
      "image/png": "[encoded data removed]",
      "text/plain": [
       "<Figure size 432x288 with 1 Axes>"
      ]
     },
     "metadata": {
      "needs_background": "light"
     },
     "output_type": "display_data"
    }
   ],
   "source": [
    "# Display 1 resized image \n",
    "print(plt.imshow(images[0]))"
   ]
  },
  {
   "cell_type": "code",
   "execution_count": 6,
   "id": "8e3cdeba-6f40-43b3-b84a-75b3c7168be5",
   "metadata": {},
   "outputs": [
    {
     "name": "stdout",
     "output_type": "stream",
     "text": [
      "Input data dimensions: (350, 67500)\n",
      "Output data dimensions: (350,)\n",
      "Dimensions of input training data: (245, 67500)\n",
      "Dimensions of input testing data: (105, 67500)\n",
      "Dimensions of output training data: (245,)\n",
      "Dimensions of output testing data: (105,)\n"
     ]
    }
   ],
   "source": [
    "# Split data into input and output sets\n",
    "from sklearn.model_selection import train_test_split\n",
    "\n",
    "# x is all input values of images and their pixel values (90 images * 67500)\n",
    "# y is output values or correct label of image (90 images * 1 column of labels)\n",
    "\n",
    "x = df.iloc[:,:-1].values\n",
    "y = target\n",
    "print(\"Input data dimensions:\",x.shape)\n",
    "print(\"Output data dimensions:\",y.shape)\n",
    "\n",
    "# Stratify ensures every image is divided in equal proportions (no bias)\n",
    "x_train,x_test,y_train,y_test = train_test_split(x,y,shuffle=True,test_size = 0.3,random_state=109,stratify=y)\n",
    "print(\"Dimensions of input training data:\",x_train.shape)\n",
    "print(\"Dimensions of input testing data:\",x_test.shape)\n",
    "print(\"Dimensions of output training data:\",y_train.shape)\n",
    "print(\"Dimensions of output testing data:\",y_test.shape)"
   ]
  },
  {
   "cell_type": "code",
   "execution_count": 7,
   "id": "7a0e0a4e-a550-4d9e-93a8-7c35dec4709a",
   "metadata": {},
   "outputs": [
    {
     "name": "stdout",
     "output_type": "stream",
     "text": [
      "Labels\t\t   Image index considered\n",
      "(array([0, 1, 2]), array([97, 73, 75], dtype=int64))\n",
      "(array([0, 1, 2]), array([42, 31, 32], dtype=int64))\n"
     ]
    }
   ],
   "source": [
    "# Check if testing and training data are divided in equal proportions\n",
    "print(\"Labels\\t\\t   Image index considered\")\n",
    "print(np.unique(y_train,return_counts=True))\n",
    "print(np.unique(y_test,return_counts=True))"
   ]
  },
  {
   "cell_type": "code",
   "execution_count": 8,
   "id": "32960067-c420-41ce-9e44-c60c1d6c34e6",
   "metadata": {},
   "outputs": [
    {
     "name": "stdout",
     "output_type": "stream",
     "text": [
      "Fitting 5 folds for each of 8 candidates, totalling 40 fits\n",
      "[CV 1/5] END .....C=1, gamma=0.001, kernel=poly;, score=0.776 total time=   3.8s\n",
      "[CV 2/5] END .....C=1, gamma=0.001, kernel=poly;, score=0.714 total time=   3.9s\n",
      "[CV 3/5] END .....C=1, gamma=0.001, kernel=poly;, score=0.714 total time=   4.0s\n",
      "[CV 4/5] END .....C=1, gamma=0.001, kernel=poly;, score=0.837 total time=   4.2s\n",
      "[CV 5/5] END .....C=1, gamma=0.001, kernel=poly;, score=0.796 total time=   4.0s\n",
      "[CV 1/5] END ....C=1, gamma=0.0001, kernel=poly;, score=0.612 total time=   5.1s\n",
      "[CV 2/5] END ....C=1, gamma=0.0001, kernel=poly;, score=0.531 total time=   5.0s\n",
      "[CV 3/5] END ....C=1, gamma=0.0001, kernel=poly;, score=0.469 total time=   5.0s\n",
      "[CV 4/5] END ....C=1, gamma=0.0001, kernel=poly;, score=0.510 total time=   4.9s\n",
      "[CV 5/5] END ....C=1, gamma=0.0001, kernel=poly;, score=0.633 total time=   5.0s\n",
      "[CV 1/5] END ...C=100, gamma=0.001, kernel=poly;, score=0.735 total time=   3.5s\n",
      "[CV 2/5] END ...C=100, gamma=0.001, kernel=poly;, score=0.714 total time=   3.7s\n",
      "[CV 3/5] END ...C=100, gamma=0.001, kernel=poly;, score=0.694 total time=   2.9s\n",
      "[CV 4/5] END ...C=100, gamma=0.001, kernel=poly;, score=0.816 total time=   3.2s\n",
      "[CV 5/5] END ...C=100, gamma=0.001, kernel=poly;, score=0.755 total time=   4.0s\n",
      "[CV 1/5] END ..C=100, gamma=0.0001, kernel=poly;, score=0.816 total time=   3.5s\n",
      "[CV 2/5] END ..C=100, gamma=0.0001, kernel=poly;, score=0.755 total time=   3.5s\n",
      "[CV 3/5] END ..C=100, gamma=0.0001, kernel=poly;, score=0.755 total time=   3.3s\n",
      "[CV 4/5] END ..C=100, gamma=0.0001, kernel=poly;, score=0.755 total time=   3.7s\n",
      "[CV 5/5] END ..C=100, gamma=0.0001, kernel=poly;, score=0.878 total time=   3.8s\n",
      "[CV 1/5] END ...C=500, gamma=0.001, kernel=poly;, score=0.735 total time=   3.3s\n",
      "[CV 2/5] END ...C=500, gamma=0.001, kernel=poly;, score=0.714 total time=   3.6s\n",
      "[CV 3/5] END ...C=500, gamma=0.001, kernel=poly;, score=0.694 total time=   2.7s\n",
      "[CV 4/5] END ...C=500, gamma=0.001, kernel=poly;, score=0.816 total time=   3.2s\n",
      "[CV 5/5] END ...C=500, gamma=0.001, kernel=poly;, score=0.755 total time=   4.1s\n",
      "[CV 1/5] END ..C=500, gamma=0.0001, kernel=poly;, score=0.776 total time=   3.8s\n",
      "[CV 2/5] END ..C=500, gamma=0.0001, kernel=poly;, score=0.755 total time=   3.9s\n",
      "[CV 3/5] END ..C=500, gamma=0.0001, kernel=poly;, score=0.735 total time=   4.5s\n",
      "[CV 4/5] END ..C=500, gamma=0.0001, kernel=poly;, score=0.816 total time=   4.7s\n",
      "[CV 5/5] END ..C=500, gamma=0.0001, kernel=poly;, score=0.776 total time=   4.2s\n",
      "[CV 1/5] END ..C=1000, gamma=0.001, kernel=poly;, score=0.735 total time=   3.4s\n",
      "[CV 2/5] END ..C=1000, gamma=0.001, kernel=poly;, score=0.714 total time=   3.8s\n",
      "[CV 3/5] END ..C=1000, gamma=0.001, kernel=poly;, score=0.694 total time=   3.0s\n",
      "[CV 4/5] END ..C=1000, gamma=0.001, kernel=poly;, score=0.816 total time=   3.3s\n",
      "[CV 5/5] END ..C=1000, gamma=0.001, kernel=poly;, score=0.755 total time=   4.2s\n",
      "[CV 1/5] END .C=1000, gamma=0.0001, kernel=poly;, score=0.776 total time=   4.1s\n",
      "[CV 2/5] END .C=1000, gamma=0.0001, kernel=poly;, score=0.714 total time=   4.2s\n",
      "[CV 3/5] END .C=1000, gamma=0.0001, kernel=poly;, score=0.714 total time=   4.3s\n",
      "[CV 4/5] END .C=1000, gamma=0.0001, kernel=poly;, score=0.837 total time=   4.0s\n",
      "[CV 5/5] END .C=1000, gamma=0.0001, kernel=poly;, score=0.796 total time=   4.3s\n"
     ]
    },
    {
     "data": {
      "text/html": [
       "<style>#sk-container-id-1 {color: black;background-color: white;}#sk-container-id-1 pre{padding: 0;}#sk-container-id-1 div.sk-toggleable {background-color: white;}#sk-container-id-1 label.sk-toggleable__label {cursor: pointer;display: block;width: 100%;margin-bottom: 0;padding: 0.3em;box-sizing: border-box;text-align: center;}#sk-container-id-1 label.sk-toggleable__label-arrow:before {content: \"▸\";float: left;margin-right: 0.25em;color: #696969;}#sk-container-id-1 label.sk-toggleable__label-arrow:hover:before {color: black;}#sk-container-id-1 div.sk-estimator:hover label.sk-toggleable__label-arrow:before {color: black;}#sk-container-id-1 div.sk-toggleable__content {max-height: 0;max-width: 0;overflow: hidden;text-align: left;background-color: #f0f8ff;}#sk-container-id-1 div.sk-toggleable__content pre {margin: 0.2em;color: black;border-radius: 0.25em;background-color: #f0f8ff;}#sk-container-id-1 input.sk-toggleable__control:checked~div.sk-toggleable__content {max-height: 200px;max-width: 100%;overflow: auto;}#sk-container-id-1 input.sk-toggleable__control:checked~label.sk-toggleable__label-arrow:before {content: \"▾\";}#sk-container-id-1 div.sk-estimator input.sk-toggleable__control:checked~label.sk-toggleable__label {background-color: #d4ebff;}#sk-container-id-1 div.sk-label input.sk-toggleable__control:checked~label.sk-toggleable__label {background-color: #d4ebff;}#sk-container-id-1 input.sk-hidden--visually {border: 0;clip: rect(1px 1px 1px 1px);clip: rect(1px, 1px, 1px, 1px);height: 1px;margin: -1px;overflow: hidden;padding: 0;position: absolute;width: 1px;}#sk-container-id-1 div.sk-estimator {font-family: monospace;background-color: #f0f8ff;border: 1px dotted black;border-radius: 0.25em;box-sizing: border-box;margin-bottom: 0.5em;}#sk-container-id-1 div.sk-estimator:hover {background-color: #d4ebff;}#sk-container-id-1 div.sk-parallel-item::after {content: \"\";width: 100%;border-bottom: 1px solid gray;flex-grow: 1;}#sk-container-id-1 div.sk-label:hover label.sk-toggleable__label {background-color: #d4ebff;}#sk-container-id-1 div.sk-serial::before {content: \"\";position: absolute;border-left: 1px solid gray;box-sizing: border-box;top: 0;bottom: 0;left: 50%;z-index: 0;}#sk-container-id-1 div.sk-serial {display: flex;flex-direction: column;align-items: center;background-color: white;padding-right: 0.2em;padding-left: 0.2em;position: relative;}#sk-container-id-1 div.sk-item {position: relative;z-index: 1;}#sk-container-id-1 div.sk-parallel {display: flex;align-items: stretch;justify-content: center;background-color: white;position: relative;}#sk-container-id-1 div.sk-item::before, #sk-container-id-1 div.sk-parallel-item::before {content: \"\";position: absolute;border-left: 1px solid gray;box-sizing: border-box;top: 0;bottom: 0;left: 50%;z-index: -1;}#sk-container-id-1 div.sk-parallel-item {display: flex;flex-direction: column;z-index: 1;position: relative;background-color: white;}#sk-container-id-1 div.sk-parallel-item:first-child::after {align-self: flex-end;width: 50%;}#sk-container-id-1 div.sk-parallel-item:last-child::after {align-self: flex-start;width: 50%;}#sk-container-id-1 div.sk-parallel-item:only-child::after {width: 0;}#sk-container-id-1 div.sk-dashed-wrapped {border: 1px dashed gray;margin: 0 0.4em 0.5em 0.4em;box-sizing: border-box;padding-bottom: 0.4em;background-color: white;}#sk-container-id-1 div.sk-label label {font-family: monospace;font-weight: bold;display: inline-block;line-height: 1.2em;}#sk-container-id-1 div.sk-label-container {text-align: center;}#sk-container-id-1 div.sk-container {/* jupyter's `normalize.less` sets `[hidden] { display: none; }` but bootstrap.min.css set `[hidden] { display: none !important; }` so we also need the `!important` here to be able to override the default hidden behavior on the sphinx rendered scikit-learn.org. See: https://github.com/scikit-learn/scikit-learn/issues/21755 */display: inline-block !important;position: relative;}#sk-container-id-1 div.sk-text-repr-fallback {display: none;}</style><div id=\"sk-container-id-1\" class=\"sk-top-container\"><div class=\"sk-text-repr-fallback\"><pre>GridSearchCV(estimator=SVC(),\n",
       "             param_grid=[{&#x27;C&#x27;: [1, 100, 500, 1000], &#x27;gamma&#x27;: [0.001, 0.0001],\n",
       "                          &#x27;kernel&#x27;: [&#x27;poly&#x27;]}],\n",
       "             verbose=3)</pre><b>In a Jupyter environment, please rerun this cell to show the HTML representation or trust the notebook. <br />On GitHub, the HTML representation is unable to render, please try loading this page with nbviewer.org.</b></div><div class=\"sk-container\" hidden><div class=\"sk-item sk-dashed-wrapped\"><div class=\"sk-label-container\"><div class=\"sk-label sk-toggleable\"><input class=\"sk-toggleable__control sk-hidden--visually\" id=\"sk-estimator-id-1\" type=\"checkbox\" ><label for=\"sk-estimator-id-1\" class=\"sk-toggleable__label sk-toggleable__label-arrow\">GridSearchCV</label><div class=\"sk-toggleable__content\"><pre>GridSearchCV(estimator=SVC(),\n",
       "             param_grid=[{&#x27;C&#x27;: [1, 100, 500, 1000], &#x27;gamma&#x27;: [0.001, 0.0001],\n",
       "                          &#x27;kernel&#x27;: [&#x27;poly&#x27;]}],\n",
       "             verbose=3)</pre></div></div></div><div class=\"sk-parallel\"><div class=\"sk-parallel-item\"><div class=\"sk-item\"><div class=\"sk-label-container\"><div class=\"sk-label sk-toggleable\"><input class=\"sk-toggleable__control sk-hidden--visually\" id=\"sk-estimator-id-2\" type=\"checkbox\" ><label for=\"sk-estimator-id-2\" class=\"sk-toggleable__label sk-toggleable__label-arrow\">estimator: SVC</label><div class=\"sk-toggleable__content\"><pre>SVC()</pre></div></div></div><div class=\"sk-serial\"><div class=\"sk-item\"><div class=\"sk-estimator sk-toggleable\"><input class=\"sk-toggleable__control sk-hidden--visually\" id=\"sk-estimator-id-3\" type=\"checkbox\" ><label for=\"sk-estimator-id-3\" class=\"sk-toggleable__label sk-toggleable__label-arrow\">SVC</label><div class=\"sk-toggleable__content\"><pre>SVC()</pre></div></div></div></div></div></div></div></div></div></div>"
      ],
      "text/plain": [
       "GridSearchCV(estimator=SVC(),\n",
       "             param_grid=[{'C': [1, 100, 500, 1000], 'gamma': [0.001, 0.0001],\n",
       "                          'kernel': ['poly']}],\n",
       "             verbose=3)"
      ]
     },
     "execution_count": 8,
     "metadata": {},
     "output_type": "execute_result"
    }
   ],
   "source": [
    "# Applying Support Vector Machine classifier\n",
    "from sklearn.model_selection import GridSearchCV\n",
    "from sklearn.svm import SVC\n",
    "\n",
    "# Set the parameters by cross-validation\n",
    "tuned_parameters = [{'kernel': ['poly'], 'gamma': [1e-3, 1e-4],\n",
    "                     'C': [1, 100, 500, 1000]}]\n",
    "                    \n",
    "# Apply GridSearchCV to find best parameters for given dataset\n",
    "# verbose is used to describe the steps taken to find best parameters\n",
    "cv = GridSearchCV(SVC(), tuned_parameters, refit = True,verbose= 3) \n",
    "cv.fit(x_train,y_train)\n"
   ]
  },
  {
   "cell_type": "code",
   "execution_count": 9,
   "id": "7ce0e031-94ca-44be-96a1-fbc7b8fa5534",
   "metadata": {},
   "outputs": [
    {
     "name": "stdout",
     "output_type": "stream",
     "text": [
      "Best parameters to apply are: {'C': 1, 'gamma': 0.001, 'kernel': 'linear'}\n",
      "Model after tuning is:\n",
      " SVC(C=1, gamma=0.001, kernel='linear')\n"
     ]
    }
   ],
   "source": [
    "# Display parameters selected by GridSearchCV for SVM 3 classes\n",
    "# Parameters obtained: {'C': 10, 'gamma': 0.0001, 'kernel': 'rbf'}\n",
    "print(\"Best parameters to apply are:\",cv.best_params_)\n",
    "# Display model after hyperparameter tuning\n",
    "svm = cv.best_estimator_\n",
    "print(\"Model after tuning is:\\n\",svm)\n"
   ]
  },
  {
   "cell_type": "code",
   "execution_count": 10,
   "id": "8dc42430-a911-4717-bd74-4e38b5614aa6",
   "metadata": {},
   "outputs": [],
   "source": [
    "# Predict the output of model after above parameters are applied to it\n",
    "y_prediction = svm.predict(x_test)"
   ]
  },
  {
   "cell_type": "code",
   "execution_count": 11,
   "id": "7bb8d6f5-ce92-4404-aa9b-2c0f406a5bcd",
   "metadata": {},
   "outputs": [
    {
     "name": "stdout",
     "output_type": "stream",
     "text": [
      "Expected results:  [1 0 2 2 0 0 0 0 2 0 0 1 1 2 1 1 1 0 1 0 0 1 1 0 0 2 0 1 0 1 2 2 0 1 0 2 2\n",
      " 2 0 1 0 0 1 0 1 0 1 1 2 2 0 2 2 2 0 0 1 0 1 2 2 2 0 0 0 2 2 0 1 0 2 0 2 2\n",
      " 0 1 2 2 2 0 2 0 1 0 2 1 1 0 1 2 0 0 1 0 2 2 1 0 0 1 1 0 1 1 2]\n",
      "Predicted results: [1 0 0 2 0 0 0 0 2 0 0 1 0 2 1 1 1 2 0 0 0 1 1 0 0 2 0 1 0 0 2 2 0 1 0 2 2\n",
      " 2 0 1 0 0 1 0 0 0 1 1 2 1 0 0 0 2 0 0 1 0 1 2 2 2 0 1 0 2 2 0 1 0 2 0 2 2\n",
      " 0 1 1 2 2 0 2 2 1 0 2 1 1 0 1 2 0 0 1 0 2 2 1 0 0 1 1 0 1 1 2]\n"
     ]
    }
   ],
   "source": [
    "\n",
    "# Print expected and predicted output\n",
    "print(\"Expected results: \",y_test)\n",
    "print(\"Predicted results:\",y_prediction)\n"
   ]
  },
  {
   "cell_type": "code",
   "execution_count": 12,
   "id": "13b647f8-3be3-4bfe-b4ac-0c6735bc6831",
   "metadata": {},
   "outputs": [
    {
     "name": "stdout",
     "output_type": "stream",
     "text": [
      "Confusion matrix results:\n",
      " [[39  4  3]\n",
      " [ 1 27  2]\n",
      " [ 2  0 27]]\n",
      "\n",
      "Classification report of model:\n",
      "               precision    recall  f1-score   support\n",
      "\n",
      "           0       0.93      0.85      0.89        46\n",
      "           1       0.87      0.90      0.89        30\n",
      "           2       0.84      0.93      0.89        29\n",
      "\n",
      "    accuracy                           0.89       105\n",
      "   macro avg       0.88      0.89      0.89       105\n",
      "weighted avg       0.89      0.89      0.89       105\n",
      "\n",
      "Accuracy score: 88.57142857142857\n"
     ]
    }
   ],
   "source": [
    "# Evaluate the model using confusion matrix, classification report and accuracy\n",
    "\n",
    "from sklearn.metrics import confusion_matrix,classification_report,accuracy_score\n",
    "\n",
    "print(\"Confusion matrix results:\\n\",confusion_matrix(y_prediction,y_test))\n",
    "print(\"\\nClassification report of model:\\n\",classification_report(y_prediction,y_test))\n",
    "print(\"Accuracy score:\",100*accuracy_score(y_prediction,y_test))"
   ]
  },
  {
   "cell_type": "code",
   "execution_count": 13,
   "id": "d5a1282f-7ade-4f88-9ba7-21bc3b510fe2",
   "metadata": {},
   "outputs": [],
   "source": [
    "#import pickle\n",
    "# Save SVM model in pickle file\n",
    "#pickle.dump(svm,open(\"Classification_Model.p\",\"wb\"))"
   ]
  },
  {
   "cell_type": "code",
   "execution_count": 14,
   "id": "f5ac6696-443b-4745-90ad-33efef5ea588",
   "metadata": {},
   "outputs": [],
   "source": [
    "# Read byte from pickle model\n",
    "#test_model = pickle.load(open(\"Classification_Model.p\",\"rb\"))"
   ]
  },
  {
   "cell_type": "code",
   "execution_count": 15,
   "id": "d1ccd8ef-2a72-416f-b077-61c65a887065",
   "metadata": {},
   "outputs": [
    {
     "name": "stdout",
     "output_type": "stream",
     "text": [
      "Dimensions of original image are: (4000, 3000, 3)\n",
      "PREDICTED OUTPUT IS: telur_retak\n"
     ]
    },
    {
     "data": {
      "image/png": "[encoded data removed]",
      "text/plain": [
       "<Figure size 432x288 with 1 Axes>"
      ]
     },
     "metadata": {
      "needs_background": "light"
     },
     "output_type": "display_data"
    }
   ],
   "source": [
    "# Testing for a new image\n",
    "flat_data = []\n",
    "img_array = imread('C:/Users/Ghofar/Downloads/dataset-20220706T090136Z-001/dataset/telur_pecah/20220607_192755.jpg')\n",
    "# Resize image\n",
    "img_preprocessed = preprocessing(img_array)\n",
    "img_resized = resize(img_preprocessed,(150,150,3))\n",
    "flat_data.append(img_resized.flatten())\n",
    "flat_data = np.array(flat_data)\n",
    "print(\"Dimensions of original image are:\",img_array.shape)\n",
    "plt.imshow(img_resized)\n",
    "y_output = test_model.predict(flat_data)\n",
    "y_output = Categories[y_output[0]]\n",
    "# URLs to test:\n",
    "#https://upload.wikimedia.org/wikipedia/commons/d/da/Strawberry_ice_cream_cone_%285076899310%29.jpg\n",
    "#https://upload.wikimedia.org/wikipedia/commons/7/71/St._Bernard_puppy.jpg\n",
    "print(\"PREDICTED OUTPUT IS:\",y_output)"
   ]
  },
  {
   "cell_type": "code",
   "execution_count": 15,
   "id": "89d59600-38a1-41ad-bf19-a6014d50203f",
   "metadata": {},
   "outputs": [
    {
     "data": {
      "text/plain": [
       "<matplotlib.collections.PathCollection at 0x21a88940850>"
      ]
     },
     "execution_count": 15,
     "metadata": {},
     "output_type": "execute_result"
    },
    {
     "data": {
      "image/png": "[encoded data removed]",
      "text/plain": [
       "<Figure size 432x288 with 1 Axes>"
      ]
     },
     "metadata": {
      "needs_background": "light"
     },
     "output_type": "display_data"
    }
   ],
   "source": [
    "plt.scatter(x, x[:, 1], c=y, s=30, cmap=plt.cm.Paired)"
   ]
  },
  {
   "cell_type": "code",
   "execution_count": 17,
   "id": "6038daef-8c9c-4001-bbed-4ce38e57ae6a",
   "metadata": {},
   "outputs": [
    {
     "ename": "ValueError",
     "evalue": "X has 2 features, but SVC is expecting 67500 features as input.",
     "output_type": "error",
     "traceback": [
      "\u001b[1;31m---------------------------------------------------------------------------\u001b[0m",
      "\u001b[1;31mValueError\u001b[0m                                Traceback (most recent call last)",
      "Input \u001b[1;32mIn [17]\u001b[0m, in \u001b[0;36m<cell line: 4>\u001b[1;34m()\u001b[0m\n\u001b[0;32m      2\u001b[0m \u001b[38;5;66;03m# plot the decision function\u001b[39;00m\n\u001b[0;32m      3\u001b[0m ax \u001b[38;5;241m=\u001b[39m plt\u001b[38;5;241m.\u001b[39mgca()\n\u001b[1;32m----> 4\u001b[0m \u001b[43mDecisionBoundaryDisplay\u001b[49m\u001b[38;5;241;43m.\u001b[39;49m\u001b[43mfrom_estimator\u001b[49m\u001b[43m(\u001b[49m\n\u001b[0;32m      5\u001b[0m \u001b[43m    \u001b[49m\u001b[43mcv\u001b[49m\u001b[43m,\u001b[49m\n\u001b[0;32m      6\u001b[0m \u001b[43m    \u001b[49m\u001b[43mx\u001b[49m\u001b[43m,\u001b[49m\n\u001b[0;32m      7\u001b[0m \u001b[43m    \u001b[49m\u001b[43mplot_method\u001b[49m\u001b[38;5;241;43m=\u001b[39;49m\u001b[38;5;124;43m\"\u001b[39;49m\u001b[38;5;124;43mcontour\u001b[39;49m\u001b[38;5;124;43m\"\u001b[39;49m\u001b[43m,\u001b[49m\n\u001b[0;32m      8\u001b[0m \u001b[43m    \u001b[49m\u001b[43mcolors\u001b[49m\u001b[38;5;241;43m=\u001b[39;49m\u001b[38;5;124;43m\"\u001b[39;49m\u001b[38;5;124;43mk\u001b[39;49m\u001b[38;5;124;43m\"\u001b[39;49m\u001b[43m,\u001b[49m\n\u001b[0;32m      9\u001b[0m \u001b[43m    \u001b[49m\u001b[43mlevels\u001b[49m\u001b[38;5;241;43m=\u001b[39;49m\u001b[43m[\u001b[49m\u001b[38;5;241;43m-\u001b[39;49m\u001b[38;5;241;43m1\u001b[39;49m\u001b[43m,\u001b[49m\u001b[43m \u001b[49m\u001b[38;5;241;43m0\u001b[39;49m\u001b[43m,\u001b[49m\u001b[43m \u001b[49m\u001b[38;5;241;43m1\u001b[39;49m\u001b[43m]\u001b[49m\u001b[43m,\u001b[49m\n\u001b[0;32m     10\u001b[0m \u001b[43m    \u001b[49m\u001b[43malpha\u001b[49m\u001b[38;5;241;43m=\u001b[39;49m\u001b[38;5;241;43m0.5\u001b[39;49m\u001b[43m,\u001b[49m\n\u001b[0;32m     11\u001b[0m \u001b[43m    \u001b[49m\u001b[43mlinestyles\u001b[49m\u001b[38;5;241;43m=\u001b[39;49m\u001b[43m[\u001b[49m\u001b[38;5;124;43m\"\u001b[39;49m\u001b[38;5;124;43m--\u001b[39;49m\u001b[38;5;124;43m\"\u001b[39;49m\u001b[43m,\u001b[49m\u001b[43m \u001b[49m\u001b[38;5;124;43m\"\u001b[39;49m\u001b[38;5;124;43m-\u001b[39;49m\u001b[38;5;124;43m\"\u001b[39;49m\u001b[43m,\u001b[49m\u001b[43m \u001b[49m\u001b[38;5;124;43m\"\u001b[39;49m\u001b[38;5;124;43m--\u001b[39;49m\u001b[38;5;124;43m\"\u001b[39;49m\u001b[43m]\u001b[49m\u001b[43m,\u001b[49m\n\u001b[0;32m     12\u001b[0m \u001b[43m    \u001b[49m\u001b[43max\u001b[49m\u001b[38;5;241;43m=\u001b[39;49m\u001b[43max\u001b[49m\u001b[43m,\u001b[49m\n\u001b[0;32m     13\u001b[0m \u001b[43m)\u001b[49m\n\u001b[0;32m     14\u001b[0m \u001b[38;5;66;03m# plot support vectors\u001b[39;00m\n\u001b[0;32m     15\u001b[0m ax\u001b[38;5;241m.\u001b[39mscatter(\n\u001b[0;32m     16\u001b[0m     clf\u001b[38;5;241m.\u001b[39msupport_vectors_[:, \u001b[38;5;241m0\u001b[39m],\n\u001b[0;32m     17\u001b[0m     clf\u001b[38;5;241m.\u001b[39msupport_vectors_[:, \u001b[38;5;241m1\u001b[39m],\n\u001b[1;32m   (...)\u001b[0m\n\u001b[0;32m     21\u001b[0m     edgecolors\u001b[38;5;241m=\u001b[39m\u001b[38;5;124m\"\u001b[39m\u001b[38;5;124mk\u001b[39m\u001b[38;5;124m\"\u001b[39m,\n\u001b[0;32m     22\u001b[0m )\n",
      "File \u001b[1;32mc:\\users\\ghofar\\appdata\\local\\programs\\python\\python39\\lib\\site-packages\\sklearn\\inspection\\_plot\\decision_boundary.py:306\u001b[0m, in \u001b[0;36mDecisionBoundaryDisplay.from_estimator\u001b[1;34m(cls, estimator, X, grid_resolution, eps, plot_method, response_method, xlabel, ylabel, ax, **kwargs)\u001b[0m\n\u001b[0;32m    303\u001b[0m     X_grid \u001b[38;5;241m=\u001b[39m np\u001b[38;5;241m.\u001b[39mc_[xx0\u001b[38;5;241m.\u001b[39mravel(), xx1\u001b[38;5;241m.\u001b[39mravel()]\n\u001b[0;32m    305\u001b[0m pred_func \u001b[38;5;241m=\u001b[39m _check_boundary_response_method(estimator, response_method)\n\u001b[1;32m--> 306\u001b[0m response \u001b[38;5;241m=\u001b[39m \u001b[43mpred_func\u001b[49m\u001b[43m(\u001b[49m\u001b[43mX_grid\u001b[49m\u001b[43m)\u001b[49m\n\u001b[0;32m    308\u001b[0m \u001b[38;5;66;03m# convert classes predictions into integers\u001b[39;00m\n\u001b[0;32m    309\u001b[0m \u001b[38;5;28;01mif\u001b[39;00m pred_func\u001b[38;5;241m.\u001b[39m\u001b[38;5;18m__name__\u001b[39m \u001b[38;5;241m==\u001b[39m \u001b[38;5;124m\"\u001b[39m\u001b[38;5;124mpredict\u001b[39m\u001b[38;5;124m\"\u001b[39m \u001b[38;5;129;01mand\u001b[39;00m \u001b[38;5;28mhasattr\u001b[39m(estimator, \u001b[38;5;124m\"\u001b[39m\u001b[38;5;124mclasses_\u001b[39m\u001b[38;5;124m\"\u001b[39m):\n",
      "File \u001b[1;32mc:\\users\\ghofar\\appdata\\local\\programs\\python\\python39\\lib\\site-packages\\sklearn\\model_selection\\_search.py:500\u001b[0m, in \u001b[0;36mBaseSearchCV.predict\u001b[1;34m(self, X)\u001b[0m\n\u001b[0;32m    482\u001b[0m \u001b[38;5;124;03m\"\"\"Call predict on the estimator with the best found parameters.\u001b[39;00m\n\u001b[0;32m    483\u001b[0m \n\u001b[0;32m    484\u001b[0m \u001b[38;5;124;03mOnly available if ``refit=True`` and the underlying estimator supports\u001b[39;00m\n\u001b[1;32m   (...)\u001b[0m\n\u001b[0;32m    497\u001b[0m \u001b[38;5;124;03m    the best found parameters.\u001b[39;00m\n\u001b[0;32m    498\u001b[0m \u001b[38;5;124;03m\"\"\"\u001b[39;00m\n\u001b[0;32m    499\u001b[0m check_is_fitted(\u001b[38;5;28mself\u001b[39m)\n\u001b[1;32m--> 500\u001b[0m \u001b[38;5;28;01mreturn\u001b[39;00m \u001b[38;5;28;43mself\u001b[39;49m\u001b[38;5;241;43m.\u001b[39;49m\u001b[43mbest_estimator_\u001b[49m\u001b[38;5;241;43m.\u001b[39;49m\u001b[43mpredict\u001b[49m\u001b[43m(\u001b[49m\u001b[43mX\u001b[49m\u001b[43m)\u001b[49m\n",
      "File \u001b[1;32mc:\\users\\ghofar\\appdata\\local\\programs\\python\\python39\\lib\\site-packages\\sklearn\\svm\\_base.py:810\u001b[0m, in \u001b[0;36mBaseSVC.predict\u001b[1;34m(self, X)\u001b[0m\n\u001b[0;32m    808\u001b[0m     y \u001b[38;5;241m=\u001b[39m np\u001b[38;5;241m.\u001b[39margmax(\u001b[38;5;28mself\u001b[39m\u001b[38;5;241m.\u001b[39mdecision_function(X), axis\u001b[38;5;241m=\u001b[39m\u001b[38;5;241m1\u001b[39m)\n\u001b[0;32m    809\u001b[0m \u001b[38;5;28;01melse\u001b[39;00m:\n\u001b[1;32m--> 810\u001b[0m     y \u001b[38;5;241m=\u001b[39m \u001b[38;5;28;43msuper\u001b[39;49m\u001b[43m(\u001b[49m\u001b[43m)\u001b[49m\u001b[38;5;241;43m.\u001b[39;49m\u001b[43mpredict\u001b[49m\u001b[43m(\u001b[49m\u001b[43mX\u001b[49m\u001b[43m)\u001b[49m\n\u001b[0;32m    811\u001b[0m \u001b[38;5;28;01mreturn\u001b[39;00m \u001b[38;5;28mself\u001b[39m\u001b[38;5;241m.\u001b[39mclasses_\u001b[38;5;241m.\u001b[39mtake(np\u001b[38;5;241m.\u001b[39masarray(y, dtype\u001b[38;5;241m=\u001b[39mnp\u001b[38;5;241m.\u001b[39mintp))\n",
      "File \u001b[1;32mc:\\users\\ghofar\\appdata\\local\\programs\\python\\python39\\lib\\site-packages\\sklearn\\svm\\_base.py:433\u001b[0m, in \u001b[0;36mBaseLibSVM.predict\u001b[1;34m(self, X)\u001b[0m\n\u001b[0;32m    417\u001b[0m \u001b[38;5;28;01mdef\u001b[39;00m \u001b[38;5;21mpredict\u001b[39m(\u001b[38;5;28mself\u001b[39m, X):\n\u001b[0;32m    418\u001b[0m     \u001b[38;5;124;03m\"\"\"Perform regression on samples in X.\u001b[39;00m\n\u001b[0;32m    419\u001b[0m \n\u001b[0;32m    420\u001b[0m \u001b[38;5;124;03m    For an one-class model, +1 (inlier) or -1 (outlier) is returned.\u001b[39;00m\n\u001b[1;32m   (...)\u001b[0m\n\u001b[0;32m    431\u001b[0m \u001b[38;5;124;03m        The predicted values.\u001b[39;00m\n\u001b[0;32m    432\u001b[0m \u001b[38;5;124;03m    \"\"\"\u001b[39;00m\n\u001b[1;32m--> 433\u001b[0m     X \u001b[38;5;241m=\u001b[39m \u001b[38;5;28;43mself\u001b[39;49m\u001b[38;5;241;43m.\u001b[39;49m\u001b[43m_validate_for_predict\u001b[49m\u001b[43m(\u001b[49m\u001b[43mX\u001b[49m\u001b[43m)\u001b[49m\n\u001b[0;32m    434\u001b[0m     predict \u001b[38;5;241m=\u001b[39m \u001b[38;5;28mself\u001b[39m\u001b[38;5;241m.\u001b[39m_sparse_predict \u001b[38;5;28;01mif\u001b[39;00m \u001b[38;5;28mself\u001b[39m\u001b[38;5;241m.\u001b[39m_sparse \u001b[38;5;28;01melse\u001b[39;00m \u001b[38;5;28mself\u001b[39m\u001b[38;5;241m.\u001b[39m_dense_predict\n\u001b[0;32m    435\u001b[0m     \u001b[38;5;28;01mreturn\u001b[39;00m predict(X)\n",
      "File \u001b[1;32mc:\\users\\ghofar\\appdata\\local\\programs\\python\\python39\\lib\\site-packages\\sklearn\\svm\\_base.py:611\u001b[0m, in \u001b[0;36mBaseLibSVM._validate_for_predict\u001b[1;34m(self, X)\u001b[0m\n\u001b[0;32m    608\u001b[0m check_is_fitted(\u001b[38;5;28mself\u001b[39m)\n\u001b[0;32m    610\u001b[0m \u001b[38;5;28;01mif\u001b[39;00m \u001b[38;5;129;01mnot\u001b[39;00m callable(\u001b[38;5;28mself\u001b[39m\u001b[38;5;241m.\u001b[39mkernel):\n\u001b[1;32m--> 611\u001b[0m     X \u001b[38;5;241m=\u001b[39m \u001b[38;5;28;43mself\u001b[39;49m\u001b[38;5;241;43m.\u001b[39;49m\u001b[43m_validate_data\u001b[49m\u001b[43m(\u001b[49m\n\u001b[0;32m    612\u001b[0m \u001b[43m        \u001b[49m\u001b[43mX\u001b[49m\u001b[43m,\u001b[49m\n\u001b[0;32m    613\u001b[0m \u001b[43m        \u001b[49m\u001b[43maccept_sparse\u001b[49m\u001b[38;5;241;43m=\u001b[39;49m\u001b[38;5;124;43m\"\u001b[39;49m\u001b[38;5;124;43mcsr\u001b[39;49m\u001b[38;5;124;43m\"\u001b[39;49m\u001b[43m,\u001b[49m\n\u001b[0;32m    614\u001b[0m \u001b[43m        \u001b[49m\u001b[43mdtype\u001b[49m\u001b[38;5;241;43m=\u001b[39;49m\u001b[43mnp\u001b[49m\u001b[38;5;241;43m.\u001b[39;49m\u001b[43mfloat64\u001b[49m\u001b[43m,\u001b[49m\n\u001b[0;32m    615\u001b[0m \u001b[43m        \u001b[49m\u001b[43morder\u001b[49m\u001b[38;5;241;43m=\u001b[39;49m\u001b[38;5;124;43m\"\u001b[39;49m\u001b[38;5;124;43mC\u001b[39;49m\u001b[38;5;124;43m\"\u001b[39;49m\u001b[43m,\u001b[49m\n\u001b[0;32m    616\u001b[0m \u001b[43m        \u001b[49m\u001b[43maccept_large_sparse\u001b[49m\u001b[38;5;241;43m=\u001b[39;49m\u001b[38;5;28;43;01mFalse\u001b[39;49;00m\u001b[43m,\u001b[49m\n\u001b[0;32m    617\u001b[0m \u001b[43m        \u001b[49m\u001b[43mreset\u001b[49m\u001b[38;5;241;43m=\u001b[39;49m\u001b[38;5;28;43;01mFalse\u001b[39;49;00m\u001b[43m,\u001b[49m\n\u001b[0;32m    618\u001b[0m \u001b[43m    \u001b[49m\u001b[43m)\u001b[49m\n\u001b[0;32m    620\u001b[0m \u001b[38;5;28;01mif\u001b[39;00m \u001b[38;5;28mself\u001b[39m\u001b[38;5;241m.\u001b[39m_sparse \u001b[38;5;129;01mand\u001b[39;00m \u001b[38;5;129;01mnot\u001b[39;00m sp\u001b[38;5;241m.\u001b[39misspmatrix(X):\n\u001b[0;32m    621\u001b[0m     X \u001b[38;5;241m=\u001b[39m sp\u001b[38;5;241m.\u001b[39mcsr_matrix(X)\n",
      "File \u001b[1;32mc:\\users\\ghofar\\appdata\\local\\programs\\python\\python39\\lib\\site-packages\\sklearn\\base.py:600\u001b[0m, in \u001b[0;36mBaseEstimator._validate_data\u001b[1;34m(self, X, y, reset, validate_separately, **check_params)\u001b[0m\n\u001b[0;32m    597\u001b[0m     out \u001b[38;5;241m=\u001b[39m X, y\n\u001b[0;32m    599\u001b[0m \u001b[38;5;28;01mif\u001b[39;00m \u001b[38;5;129;01mnot\u001b[39;00m no_val_X \u001b[38;5;129;01mand\u001b[39;00m check_params\u001b[38;5;241m.\u001b[39mget(\u001b[38;5;124m\"\u001b[39m\u001b[38;5;124mensure_2d\u001b[39m\u001b[38;5;124m\"\u001b[39m, \u001b[38;5;28;01mTrue\u001b[39;00m):\n\u001b[1;32m--> 600\u001b[0m     \u001b[38;5;28;43mself\u001b[39;49m\u001b[38;5;241;43m.\u001b[39;49m\u001b[43m_check_n_features\u001b[49m\u001b[43m(\u001b[49m\u001b[43mX\u001b[49m\u001b[43m,\u001b[49m\u001b[43m \u001b[49m\u001b[43mreset\u001b[49m\u001b[38;5;241;43m=\u001b[39;49m\u001b[43mreset\u001b[49m\u001b[43m)\u001b[49m\n\u001b[0;32m    602\u001b[0m \u001b[38;5;28;01mreturn\u001b[39;00m out\n",
      "File \u001b[1;32mc:\\users\\ghofar\\appdata\\local\\programs\\python\\python39\\lib\\site-packages\\sklearn\\base.py:400\u001b[0m, in \u001b[0;36mBaseEstimator._check_n_features\u001b[1;34m(self, X, reset)\u001b[0m\n\u001b[0;32m    397\u001b[0m     \u001b[38;5;28;01mreturn\u001b[39;00m\n\u001b[0;32m    399\u001b[0m \u001b[38;5;28;01mif\u001b[39;00m n_features \u001b[38;5;241m!=\u001b[39m \u001b[38;5;28mself\u001b[39m\u001b[38;5;241m.\u001b[39mn_features_in_:\n\u001b[1;32m--> 400\u001b[0m     \u001b[38;5;28;01mraise\u001b[39;00m \u001b[38;5;167;01mValueError\u001b[39;00m(\n\u001b[0;32m    401\u001b[0m         \u001b[38;5;124mf\u001b[39m\u001b[38;5;124m\"\u001b[39m\u001b[38;5;124mX has \u001b[39m\u001b[38;5;132;01m{\u001b[39;00mn_features\u001b[38;5;132;01m}\u001b[39;00m\u001b[38;5;124m features, but \u001b[39m\u001b[38;5;132;01m{\u001b[39;00m\u001b[38;5;28mself\u001b[39m\u001b[38;5;241m.\u001b[39m\u001b[38;5;18m__class__\u001b[39m\u001b[38;5;241m.\u001b[39m\u001b[38;5;18m__name__\u001b[39m\u001b[38;5;132;01m}\u001b[39;00m\u001b[38;5;124m \u001b[39m\u001b[38;5;124m\"\u001b[39m\n\u001b[0;32m    402\u001b[0m         \u001b[38;5;124mf\u001b[39m\u001b[38;5;124m\"\u001b[39m\u001b[38;5;124mis expecting \u001b[39m\u001b[38;5;132;01m{\u001b[39;00m\u001b[38;5;28mself\u001b[39m\u001b[38;5;241m.\u001b[39mn_features_in_\u001b[38;5;132;01m}\u001b[39;00m\u001b[38;5;124m features as input.\u001b[39m\u001b[38;5;124m\"\u001b[39m\n\u001b[0;32m    403\u001b[0m     )\n",
      "\u001b[1;31mValueError\u001b[0m: X has 2 features, but SVC is expecting 67500 features as input."
     ]
    },
    {
     "data": {
      "image/png": "[encoded data removed]",
      "text/plain": [
       "<Figure size 432x288 with 1 Axes>"
      ]
     },
     "metadata": {
      "needs_background": "light"
     },
     "output_type": "display_data"
    }
   ],
   "source": []
  },
  {
   "cell_type": "code",
   "execution_count": null,
   "id": "79d0ea5c-30cb-42c2-8fe9-873b7cf63ef8",
   "metadata": {},
   "outputs": [],
   "source": []
  }
 ],
 "metadata": {
  "kernelspec": {
   "display_name": "Python 3 (ipykernel)",
   "language": "python",
   "name": "python3"
  },
  "language_info": {
   "codemirror_mode": {
    "name": "ipython",
    "version": 3
   },
   "file_extension": ".py",
   "mimetype": "text/x-python",
   "name": "python",
   "nbconvert_exporter": "python",
   "pygments_lexer": "ipython3",
   "version": "3.9.6"
  }
 },
 "nbformat": 4,
 "nbformat_minor": 5
}
